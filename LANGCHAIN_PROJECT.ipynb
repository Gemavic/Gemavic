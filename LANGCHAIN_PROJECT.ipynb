{
  "nbformat": 4,
  "nbformat_minor": 0,
  "metadata": {
    "colab": {
      "private_outputs": true,
      "provenance": [],
      "toc_visible": true,
      "history_visible": true,
      "cell_execution_strategy": "setup",
      "mount_file_id": "1UlZDcCU6vTJqJkuUk0kk0S2Zt-A71RKE",
      "authorship_tag": "ABX9TyOj3Uk2FITxSpITI1ol248L",
      "include_colab_link": true
    },
    "kernelspec": {
      "name": "python3",
      "display_name": "Python 3"
    },
    "language_info": {
      "name": "python"
    }
  },
  "cells": [
    {
      "cell_type": "markdown",
      "metadata": {
        "id": "view-in-github",
        "colab_type": "text"
      },
      "source": [
        "<a href=\"https://colab.research.google.com/github/Gemavic/Gemavic/blob/main/LANGCHAIN_PROJECT.ipynb\" target=\"_parent\"><img src=\"https://colab.research.google.com/assets/colab-badge.svg\" alt=\"Open In Colab\"/></a>"
      ]
    },
    {
      "cell_type": "markdown",
      "source": [
        "   #LANGCHAIN PROJECT\n",
        "         ##BY\n",
        " ##GBENGA MATTHEW AYANDARE"
      ],
      "metadata": {
        "id": "WKzHtLQdMTDO"
      }
    },
    {
      "cell_type": "code",
      "source": [
        "# INTRODUCTION :"
      ],
      "metadata": {
        "id": "7Gqbc9g4NHaO"
      },
      "execution_count": null,
      "outputs": []
    },
    {
      "cell_type": "markdown",
      "source": [],
      "metadata": {
        "id": "Pr2wPXi7NPGe"
      }
    },
    {
      "cell_type": "code",
      "source": [
        "!pip install -U -qq openai langchain chromadb faiss-cpu pypdf"
      ],
      "metadata": {
        "id": "1VVT_LlFNQza"
      },
      "execution_count": null,
      "outputs": []
    },
    {
      "cell_type": "code",
      "source": [
        "!pip install langchain-openai"
      ],
      "metadata": {
        "id": "7BrR94c2N9MZ"
      },
      "execution_count": null,
      "outputs": []
    },
    {
      "cell_type": "code",
      "source": [
        "import os\n",
        "os.environ['OPENAI_API_KEY'] = \"sk-your_openai_api_key\"\n"
      ],
      "metadata": {
        "id": "Qc91UTkiN4C6"
      },
      "execution_count": null,
      "outputs": []
    },
    {
      "cell_type": "code",
      "source": [
        "from google.colab import userdata\n",
        "userdata.get('OPENAI_API_KEY')"
      ],
      "metadata": {
        "collapsed": true,
        "id": "FUN3-NEDP0An"
      },
      "execution_count": null,
      "outputs": []
    },
    {
      "cell_type": "code",
      "source": [
        "openai_api_key = os.getenv(\"OPENAI_API_KEY\")\n",
        "print(openai_api_key)  # Do not use print in a public or shared environment!\n"
      ],
      "metadata": {
        "id": "jeLpXs1qQix-"
      },
      "execution_count": null,
      "outputs": []
    },
    {
      "cell_type": "code",
      "source": [
        "# Mount Google Drive\n",
        "from google.colab import drive\n",
        "import os\n",
        "import openai\n",
        "\n",
        "drive.mount('/content/drive', force_remount=True)\n",
        "\n",
        "# Define folder path\n",
        "folder_path = '/content/drive/MyDrive/LANG_GM/OPENAI_API_KEY.TXT/'  # Update this path if necessary\n",
        "\n",
        "# Ensure folder exists\n",
        "if not os.path.exists(folder_path):\n",
        "    os.makedirs(folder_path)\n",
        "    print(f\"Folder '{folder_path}' created.\")\n",
        "else:\n",
        "    print(f\"Folder '{folder_path}' already exists.\")\n",
        "\n",
        "from google.colab import userdata\n",
        "openai_api_key = userdata.get('OPENAI_API_KEY')"
      ],
      "metadata": {
        "id": "IDyIrfj8UBxA"
      },
      "execution_count": null,
      "outputs": []
    },
    {
      "cell_type": "code",
      "source": [
        "openai_api_key"
      ],
      "metadata": {
        "collapsed": true,
        "id": "cXrpRJj8UdDD"
      },
      "execution_count": null,
      "outputs": []
    },
    {
      "cell_type": "code",
      "source": [
        "# Import the ChatOpenAI model\n",
        "from langchain_openai import ChatOpenAI, OpenAI\n",
        "\n",
        "\n",
        "# Instantiate OpenAI's Chat Model\n",
        "llm_chat = ChatOpenAI(openai_api_key=openai_api_key) #ChatModel Class\n",
        "llm  = OpenAI(openai_api_key= openai_api_key) # LLM Class"
      ],
      "metadata": {
        "id": "6_-3_hihVMFb"
      },
      "execution_count": null,
      "outputs": []
    },
    {
      "cell_type": "code",
      "source": [
        "# Document Schema\n",
        "from langchain.schema import Document\n",
        "\n",
        "# Document object can contain the page_content and the metadata\n",
        "document_1 = Document(page_content=\"XYZ\",\n",
        "         metadata={\n",
        "             'my_document_id' : 1234,\n",
        "             'my_document_source' : \"The LangChain Papers\",\n",
        "             'my_document_create_time' : 1680013019\n",
        "         })\n",
        "document_2 = Document(page_content=\"XYZ\")\n",
        "print(document_1, '\\n\\n' ,document_2)"
      ],
      "metadata": {
        "id": "PArKsYzKXYFo"
      },
      "execution_count": null,
      "outputs": []
    },
    {
      "cell_type": "markdown",
      "source": [
        "CSV Files"
      ],
      "metadata": {
        "id": "EYj_5PIdXnDA"
      }
    },
    {
      "cell_type": "code",
      "source": [
        "!pip install langchain"
      ],
      "metadata": {
        "id": "8VDMb4i1ZCa4"
      },
      "execution_count": null,
      "outputs": []
    },
    {
      "cell_type": "code",
      "source": [
        "# Import the CSVLoader class from LangChain\n",
        "from langchain.document_loaders import CSVLoader"
      ],
      "metadata": {
        "id": "82UgF4FXXpmc"
      },
      "execution_count": null,
      "outputs": []
    },
    {
      "source": [
        "!pip install -U langchain-community # Install langchain-community package"
      ],
      "cell_type": "code",
      "metadata": {
        "id": "S-tPgb4kZjm_"
      },
      "execution_count": null,
      "outputs": []
    },
    {
      "cell_type": "code",
      "execution_count": null,
      "metadata": {
        "id": "GQ18Kd5F3uKe"
      },
      "outputs": [],
      "source": [
        "!pip install matplotlib-venn"
      ]
    },
    {
      "cell_type": "code",
      "source": [
        "!apt-get install"
      ],
      "metadata": {
        "id": "tDJR0BWcYz3D"
      },
      "execution_count": null,
      "outputs": []
    },
    {
      "cell_type": "code",
      "execution_count": null,
      "metadata": {
        "id": "__3eqm3q3sr-"
      },
      "outputs": [],
      "source": [
        "!apt-get -qq install -y libfluidsynth1"
      ]
    },
    {
      "cell_type": "code",
      "source": [
        "!ls"
      ],
      "metadata": {
        "id": "7Ak5-rxVaB0N"
      },
      "execution_count": null,
      "outputs": []
    },
    {
      "source": [
        "from google.colab import drive\n",
        "drive.mount('/content/drive', force_remount=True)"
      ],
      "cell_type": "code",
      "metadata": {
        "id": "F0Ga8oRyc2ar"
      },
      "execution_count": null,
      "outputs": []
    },
    {
      "source": [
        "import os\n",
        "# List all files in the directory\n",
        "print(os.listdir('/content/drive/MyDrive/LANG_GM/'))"
      ],
      "cell_type": "code",
      "metadata": {
        "id": "GeKnuwVVc3Uj"
      },
      "execution_count": null,
      "outputs": []
    },
    {
      "source": [
        "file_path = \"/content/drive/MyDrive/LANG_GM/laptop_reviews.csv\" # Update with the correct file name if needed"
      ],
      "cell_type": "code",
      "metadata": {
        "id": "pytH7piVc397"
      },
      "execution_count": null,
      "outputs": []
    },
    {
      "cell_type": "code",
      "source": [
        "import os\n",
        "\n",
        "file_path = '/content/drive/MyDrive/LANG_GM/laptop_reviews.csv'\n",
        "dir_path = os.path.dirname(file_path)  # Get the parent directory of the file\n",
        "\n",
        "# List files in the parent directory\n",
        "print(f\"Files in '{dir_path}': {os.listdir(dir_path)}\")\n"
      ],
      "metadata": {
        "id": "ZRMqG3s8oMx4"
      },
      "execution_count": null,
      "outputs": []
    },
    {
      "cell_type": "code",
      "source": [
        "if os.path.exists(file_path):\n",
        "    print(f\"File found: {file_path}\")\n",
        "else:\n",
        "    print(f\"File not found: {file_path}\")\n"
      ],
      "metadata": {
        "id": "o8gAXFrLoUR_"
      },
      "execution_count": null,
      "outputs": []
    },
    {
      "cell_type": "code",
      "source": [
        "# List files in the target directory\n",
        "!ls /content/drive/MyDrive/LANG_GM/\n"
      ],
      "metadata": {
        "id": "VhEeVfGKod56"
      },
      "execution_count": null,
      "outputs": []
    },
    {
      "cell_type": "code",
      "source": [
        "import pandas as pd\n",
        "\n",
        "file_path = '/content/drive/MyDrive/LANG_GM/laptop_reviews.csv'\n",
        "if os.path.exists(file_path):\n",
        "    df = pd.read_csv(file_path)\n",
        "    print(df.head())\n",
        "else:\n",
        "    print(f\"File not found: {file_path}\")\n"
      ],
      "metadata": {
        "id": "dNPJL_K-onEo"
      },
      "execution_count": null,
      "outputs": []
    },
    {
      "cell_type": "code",
      "source": [
        "import os\n",
        "\n",
        "file_path = '/content/drive/MyDrive/LANG_GM/Laptop_Reviews.csv'\n",
        "\n",
        "# Check if the file exists\n",
        "if os.path.exists(file_path):\n",
        "    print(f\"File found: {file_path}\")\n",
        "    # Read the file with pandas if needed\n",
        "    import pandas as pd\n",
        "    df = pd.read_csv(file_path)\n",
        "    print(df.head())\n",
        "else:\n",
        "    print(f\"File not found: {file_path}\")\n",
        "    # List contents of the parent directory for debugging\n",
        "    dir_path = os.path.dirname(file_path)\n",
        "    if os.path.exists(dir_path):\n",
        "        print(f\"Files in '{dir_path}': {os.listdir(dir_path)}\")\n",
        "    else:\n",
        "        print(f\"Directory not found: {dir_path}\")\n"
      ],
      "metadata": {
        "id": "HGMOqovkowck"
      },
      "execution_count": null,
      "outputs": []
    },
    {
      "cell_type": "code",
      "source": [
        "!ls"
      ],
      "metadata": {
        "id": "KQVR1xCs1Asa"
      },
      "execution_count": null,
      "outputs": []
    },
    {
      "source": [
        "# Assuming 'df' contains your data as a pandas DataFrame\n",
        "df.iloc[0] # Access the first row of the DataFrame 'df'"
      ],
      "cell_type": "code",
      "metadata": {
        "id": "tLGTYJvW1xt_"
      },
      "execution_count": null,
      "outputs": []
    },
    {
      "cell_type": "code",
      "source": [
        "print(csv_data[0].page_content)"
      ],
      "metadata": {
        "id": "0iOqhd042ONC"
      },
      "execution_count": null,
      "outputs": []
    },
    {
      "source": [
        "from langchain.document_loaders import CSVLoader\n",
        "\n",
        "file_path = '/content/drive/MyDrive/LANG_GM/laptop_reviews.csv'  # Replace with your actual file path\n",
        "loader = CSVLoader(file_path)\n",
        "csv_data = loader.load()  # This line loads the data into the 'csv_data' variable\n",
        "\n",
        "print(csv_data[0].page_content)"
      ],
      "cell_type": "code",
      "metadata": {
        "id": "UcPoD4m0FlXx"
      },
      "execution_count": null,
      "outputs": []
    },
    {
      "source": [
        "# Assuming 'df' is a DataFrame loaded from your CSV\n",
        "# and you want the first row's content:\n",
        "print(df.iloc[0].to_string())"
      ],
      "cell_type": "code",
      "metadata": {
        "id": "JFO2PzYM2kWy"
      },
      "execution_count": null,
      "outputs": []
    },
    {
      "source": [
        "from langchain.document_loaders import CSVLoader\n",
        "\n",
        "file_path = '/content/drive/MyDrive/LANG_GM/laptop_reviews.csv'  # Replace with your file path\n",
        "loader = CSVLoader(file_path)\n",
        "csv_data = loader.load()  # This loads the data into the 'csv_data' variable\n",
        "\n",
        "# Now you can access the page content:\n",
        "print(csv_data[0].page_content)"
      ],
      "cell_type": "code",
      "metadata": {
        "id": "Cog0Id5C2lLG"
      },
      "execution_count": null,
      "outputs": []
    },
    {
      "source": [
        "# View the associated metadata of the file\n",
        "csv_data[0].metadata  # Changed 'text_data' to 'csv_data'"
      ],
      "cell_type": "code",
      "metadata": {
        "id": "6jL7AJ1c3Pyn"
      },
      "execution_count": null,
      "outputs": []
    },
    {
      "cell_type": "code",
      "source": [
        "# Install the necessary library for working with PyPDFLoader\n",
        "!pip install PyPDF"
      ],
      "metadata": {
        "id": "u4dYKGvX3VDK"
      },
      "execution_count": null,
      "outputs": []
    },
    {
      "cell_type": "code",
      "source": [
        "# HN Loader\n",
        "from langchain.document_loaders import HNLoader\n",
        "\n",
        "hn_loader = HNLoader(\"https://news.ycombinator.com/item?id=34422627\")\n",
        "\n",
        "hn_data = hn_loader.load()\n",
        "\n",
        "print(hn_data[0].page_content, '\\n', hn_data[0].metadata)"
      ],
      "metadata": {
        "id": "OgfjckNs3p23"
      },
      "execution_count": null,
      "outputs": []
    },
    {
      "cell_type": "code",
      "source": [],
      "metadata": {
        "id": "yZ6HUPTl34m1"
      },
      "execution_count": null,
      "outputs": []
    },
    {
      "cell_type": "code",
      "execution_count": null,
      "metadata": {
        "id": "5pQNviQfAkZO"
      },
      "outputs": [],
      "source": [
        "!pip install youtube-transcript-api pytube"
      ]
    },
    {
      "cell_type": "code",
      "source": [
        "# dir(YoutubeLoader)"
      ],
      "metadata": {
        "id": "rT-UBFep4F7s"
      },
      "execution_count": null,
      "outputs": []
    },
    {
      "source": [
        "# YouTubeLoader\n",
        "from langchain.document_loaders import YoutubeLoader\n",
        "\n",
        "# Try loading without add_video_info=True\n",
        "loader = YoutubeLoader.from_youtube_url(\n",
        "    \"https://www.youtube.com/watch?v=RhwVMt_XCUE&ab_channel=Microsoft\"\n",
        ")\n",
        "\n",
        "yt_data = loader.load()"
      ],
      "cell_type": "code",
      "metadata": {
        "id": "SCUhlWSA4fvN"
      },
      "execution_count": null,
      "outputs": []
    },
    {
      "source": [
        "!pip install -U pytube"
      ],
      "cell_type": "code",
      "metadata": {
        "id": "HjYr_1G94gpG"
      },
      "execution_count": null,
      "outputs": []
    },
    {
      "cell_type": "code",
      "source": [
        "yt_data[0].page_content"
      ],
      "metadata": {
        "id": "IQwF9CKc5JBq"
      },
      "execution_count": null,
      "outputs": []
    },
    {
      "source": [
        "# This is a long document we can split up.\n",
        "import os\n",
        "\n",
        "file_path = os.path.join(folder_path, 'Files', 'fix.txt')  # Construct the file path using os.path.join\n",
        "\n",
        "# Print the file path for debugging\n",
        "print(f\"Trying to open file at: {file_path}\")\n",
        "\n",
        "# Check if the file exists before opening it\n",
        "if os.path.exists(file_path):\n",
        "    with open(file_path) as f:\n",
        "        text_content = f.read()\n",
        "\n",
        "    print(text_content)\n",
        "else:\n",
        "    print(f\"File not found: {file_path}\")\n",
        "    # List contents of the parent directory for debugging\n",
        "    dir_path = os.path.dirname(file_path)\n",
        "    if os.path.exists(dir_path):\n",
        "        print(f\"Files in '{dir_path}': {os.listdir(dir_path)}\")\n",
        "    else:\n",
        "        print(f\"Directory not found: {dir_path}\")"
      ],
      "cell_type": "code",
      "metadata": {
        "id": "q8QRgPSJ5wE-"
      },
      "execution_count": null,
      "outputs": []
    },
    {
      "cell_type": "code",
      "source": [
        "import os\n",
        "from langchain.document_loaders import TextLoader\n",
        "\n",
        "# Set the base folder path (adjust to point to the correct parent directory)\n",
        "folder_path = '/content/drive/MyDrive/LANG_GM'\n",
        "\n",
        "# Construct the file path\n",
        "file_path = os.path.join(folder_path, 'Files', 'fix.txt')\n",
        "\n",
        "# Debug: Print the constructed file path\n",
        "print(f\"Trying to open file at: {file_path}\")\n",
        "\n",
        "# Check if the file exists\n",
        "if os.path.exists(file_path):\n",
        "    # Load the text file using TextLoader\n",
        "    try:\n",
        "        text_loader = TextLoader(file_path)\n",
        "        text_data = text_loader.load()\n",
        "\n",
        "        # Print the first page's content\n",
        "        print(\"File loaded successfully!\")\n",
        "        print(text_data[0].page_content)\n",
        "    except Exception as e:\n",
        "        print(f\"Error while loading file: {e}\")\n",
        "else:\n",
        "    print(f\"File not found: {file_path}\")\n",
        "\n",
        "    # Debug: List the contents of the parent directory\n",
        "    parent_dir = os.path.dirname(file_path)\n",
        "    if os.path.exists(parent_dir):\n",
        "        print(f\"Contents of '{parent_dir}': {os.listdir(parent_dir)}\")\n",
        "    else:\n",
        "        print(f\"Parent directory not found: {parent_dir}\")\n"
      ],
      "metadata": {
        "id": "-PaZ9ppPKVrZ"
      },
      "execution_count": null,
      "outputs": []
    },
    {
      "source": [
        "# Load the text file\n",
        "from langchain.document_loaders import TextLoader\n",
        "import os\n",
        "\n",
        "# Assuming 'folder_path' is '/content/drive/MyDrive/LANG_GM/OPENAI_API_KEY.TXT/'\n",
        "# and you want to access 'fix.txt' inside the 'Files' subdirectory:\n",
        "\n",
        "# 1. Construct the file path using os.path.join for better cross-platform compatibility\n",
        "file_path = os.path.join(folder_path, 'Files', 'fix.txt')\n",
        "\n",
        "# 2. Print the file path for debugging\n",
        "print(f\"Trying to open file at: {file_path}\")\n",
        "\n",
        "# 3. Check if the file exists before opening it\n",
        "if os.path.exists(file_path):\n",
        "    text_loader = TextLoader(file_path)  # Use the constructed file path\n",
        "    text_data = text_loader.load()\n",
        "    print(text_data[0].page_content)\n",
        "else:\n",
        "    print(f\"File not found: {file_path}\")\n",
        "    # List contents of the parent directory for debugging\n",
        "    dir_path = os.path.dirname"
      ],
      "cell_type": "code",
      "metadata": {
        "id": "FxkhKXhUGnkT"
      },
      "execution_count": null,
      "outputs": []
    },
    {
      "source": [
        "# Assume 'text_data' contains the loaded text document.\n",
        "# If you have a different variable holding the loaded text, replace 'text_data' accordingly.\n",
        "\n",
        "from langchain.text_splitter import CharacterTextSplitter\n",
        "from langchain.document_loaders import TextLoader\n",
        "import os\n",
        "\n",
        "# Assuming 'folder_path' is '/content/drive/MyDrive/LANG_GM/13sentences.txt"
      ],
      "cell_type": "code",
      "metadata": {
        "id": "Palk3tvsKwTC"
      },
      "execution_count": null,
      "outputs": []
    },
    {
      "cell_type": "markdown",
      "source": [],
      "metadata": {
        "id": "CiayO5EV4Wqy"
      }
    },
    {
      "source": [
        "# and you want to access 'fix.txt' inside the 'Files' subdirectory:\n",
        "# and you want to access 'fix.txt' inside the 'Files' subdirectory:\n",
        "file_path = os.path.join('/content/drive/MyDrive/LANG_GM/13sentences.txt',) #Fixed folder path error"
      ],
      "cell_type": "code",
      "metadata": {
        "id": "LSfKFEREOXKv"
      },
      "execution_count": null,
      "outputs": []
    },
    {
      "source": [
        "# Assume 'text_data' contains the loaded text document.\n",
        "# If you have a different variable holding the loaded text, replace 'text_data' accordingly.\n",
        "\n",
        "from langchain.text_splitter import CharacterTextSplitter\n",
        "from langchain.document_loaders import TextLoader\n",
        "import os\n",
        "\n",
        "# Assuming 'folder_path' is '/content/drive/MyDrive/LANG_GM/OPENAI_API_KEY.TXT/'\n",
        "# and you want to access 'fix.txt' inside the 'Files' subdirectory:\n",
        "# 1. Construct the file path using os.path.join for better cross-platform compatibility\n",
        "file_path = os.path.join('/content/drive/MyDrive/LANG_GM/13sentences.txt',) #Fixed folder path error\n",
        "# 2. Print the file path for debugging\n",
        "print(f\"Trying to open file at: {file_path}\")\n",
        "\n",
        "# 3. Check if the file exists before opening it, Load the text data if it does\n",
        "if os.path.exists(file_path):\n",
        "    text_loader = TextLoader(file_path)  # Use the constructed file path\n",
        "    text_data = text_loader.load() # Load the text data into text_data variable\n",
        "    print(text_data[0].page_content)\n",
        "else:\n",
        "    print(f\"File not found: {file_path}\")\n",
        "    # List contents of the parent directory for debugging\n",
        "    dir_path = os.path.dirname(file_path)\n",
        "    if os.path.exists(dir_path):\n",
        "        print(f\"Contents of '{dir_path}': {os.listdir(dir_path)}\")\n",
        "    else:\n",
        "        print(f\"Parent directory not found: {dir_path}\")\n",
        "    # If file is not found, exit to prevent further errors\n",
        "    # You might want to handle this differently based on your use case\n",
        "    # For example, you could prompt the user to enter a new file path.\n",
        "    import sys\n",
        "    sys.exit(1)  # Exit with a non-zero status code to indicate an error\n",
        "\n",
        "\n",
        "# Instantiate the CharacterTextSplitter with desired settings\n",
        "# Adjust chunk_size and chunk_overlap as needed\n",
        "text_splitter = CharacterTextSplitter(chunk_size=100, chunk_overlap=10)\n",
        "\n",
        "# Split the loaded text data into smaller documents\n",
        "char_split_texts = text_splitter.split_documents(text_data)\n",
        "\n",
        "# Now you can safely use char_split_texts\n",
        "print(f\"You have {len(char_split_texts)} documents\")"
      ],
      "cell_type": "code",
      "metadata": {
        "id": "thdRKYAPNUJ3"
      },
      "execution_count": null,
      "outputs": []
    },
    {
      "source": [
        "# Import the CharacterTextSplitter\n",
        "from langchain.text_splitter import CharacterTextSplitter\n",
        "\n",
        "char_text_splitter = CharacterTextSplitter(\n",
        "    separator = \"\\n\",\n",
        "    chunk_size = 100,\n",
        "    chunk_overlap = 10\n",
        ")\n",
        "\n",
        "# Use text_data instead of text_content\n",
        "char_split_texts = char_text_splitter.create_documents([text_data[0].page_content])  # Pass the content of text_data"
      ],
      "cell_type": "code",
      "metadata": {
        "id": "uCSeil_dQPlO"
      },
      "execution_count": null,
      "outputs": []
    },
    {
      "cell_type": "code",
      "source": [
        "print (f\"You have {len(char_split_texts)} documents\")"
      ],
      "metadata": {
        "id": "DujqxTgRQBnk"
      },
      "execution_count": null,
      "outputs": []
    },
    {
      "cell_type": "markdown",
      "source": [],
      "metadata": {
        "id": "DDJ8CTZn2NXZ"
      }
    }
  ]
}