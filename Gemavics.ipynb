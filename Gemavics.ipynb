{
  "nbformat": 4,
  "nbformat_minor": 0,
  "metadata": {
    "colab": {
      "private_outputs": true,
      "provenance": [],
      "cell_execution_strategy": "setup",
      "authorship_tag": "ABX9TyNbnokNl8RPDHSr2mbBR+zR",
      "include_colab_link": true
    },
    "kernelspec": {
      "name": "python3",
      "display_name": "Python 3"
    },
    "language_info": {
      "name": "python"
    }
  },
  "cells": [
    {
      "cell_type": "markdown",
      "metadata": {
        "id": "view-in-github",
        "colab_type": "text"
      },
      "source": [
        "<a href=\"https://colab.research.google.com/github/Gemavic/Gemavic/blob/main/Gemavics.ipynb\" target=\"_parent\"><img src=\"https://colab.research.google.com/assets/colab-badge.svg\" alt=\"Open In Colab\"/></a>"
      ]
    },
    {
      "cell_type": "markdown",
      "source": [
        "GEMAVIC SURVEYS SERVICES LTD.\n",
        "2025-04-18"
      ],
      "metadata": {
        "id": "4eVfcAzptfWC"
      }
    },
    {
      "cell_type": "code",
      "source": [
        "!pip import Flask"
      ],
      "metadata": {
        "id": "HurvWg0VhrWk"
      },
      "execution_count": null,
      "outputs": []
    },
    {
      "cell_type": "code",
      "source": [
        "from flask import Flask, render_template, url_for\n",
        "from datetime import datetime\n",
        "\n",
        "app = Flask(__name__)\n",
        "\n",
        "# Configuration for the Google Form URL\n",
        "GOOGLE_FORM_URL = \"https://forms.gle/DkHTyP9c7p3v49kJ7\"  # Replace with your actual Google Form URL\n",
        "app.config['GOOGLE_FORM_URL'] = GOOGLE_FORM_URL\n",
        "\n",
        "@app.route('/')\n",
        "def index():\n",
        "    return render_template('index.html', year=datetime.now().year)\n",
        "\n",
        "@app.route('/services')\n",
        "def services():\n",
        "    return render_template('services.html', year=datetime.now().year)\n",
        "\n",
        "@app.route('/contact')\n",
        "def contact():\n",
        "    return render_template('contact.html', year=datetime.now().year)\n",
        "\n",
        "@app.route('/signup')\n",
        "def signup():\n",
        "    google_form_url = app.config['GOOGLE_FORM_URL']\n",
        "    return render_template('signup.html', google_form_url=google_form_url, year=datetime.now().year)\n",
        "\n",
        "if __name__ == '__main__':\n",
        "    app.run(debug=True)"
      ],
      "metadata": {
        "id": "__Kx4KrAf-32"
      },
      "execution_count": null,
      "outputs": []
    },
    {
      "cell_type": "code",
      "source": [],
      "metadata": {
        "id": "NR7hpG8ettNv"
      },
      "execution_count": null,
      "outputs": []
    },
    {
      "cell_type": "code",
      "source": [],
      "metadata": {
        "id": "5zTK23eowA2v"
      },
      "execution_count": null,
      "outputs": []
    }
  ]
}