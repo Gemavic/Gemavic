{
  "nbformat": 4,
  "nbformat_minor": 0,
  "metadata": {
    "colab": {
      "private_outputs": true,
      "provenance": [],
      "authorship_tag": "ABX9TyPpFeuYVjBtcOtr6g/JxuB3",
      "include_colab_link": true
    },
    "kernelspec": {
      "name": "python3",
      "display_name": "Python 3"
    },
    "language_info": {
      "name": "python"
    }
  },
  "cells": [
    {
      "cell_type": "markdown",
      "metadata": {
        "id": "view-in-github",
        "colab_type": "text"
      },
      "source": [
        "<a href=\"https://colab.research.google.com/github/Gemavic/Gemavic/blob/main/Betadates.ipynb\" target=\"_parent\"><img src=\"https://colab.research.google.com/assets/colab-badge.svg\" alt=\"Open In Colab\"/></a>"
      ]
    },
    {
      "cell_type": "markdown",
      "source": [
        "Okay, this is a great start to a basic dating app! You've laid out the structure, backend, and frontend components well. Here's a breakdown of what you've done and some suggestions for improvements and next steps:\n",
        "\n",
        "Strengths:\n",
        "\n",
        "Clear Project Structure: The directory structure is well-organized, separating code, templates, and static assets.\n",
        "Basic Functionality Implemented: You have the core user registration, login, profile, and messaging features in place.\n",
        "Flask-SQLAlchemy Integration: Using Flask-SQLAlchemy for database interaction is a good practice.\n",
        "Flask-Login for Authentication: Implementing user authentication with Flask-Login is secure and efficient.\n",
        "Basic CSS Styling: The included CSS provides a basic level of styling for the app.\n",
        "Good Use of Templates: Templating with Jinja2 is used correctly, allowing for dynamic content.\n",
        "Areas for Improvement and Next Steps:"
      ],
      "metadata": {
        "id": "jkyLctj2UUF0"
      }
    },
    {
      "cell_type": "markdown",
      "source": [
        "Password Hashing:\n",
        "\n",
        "Problem: Storing passwords in plain text in the database is a major security risk.\n",
        "Solution: Use a library like bcrypt or werkzeug.security to hash passwords before storing them.\n",
        "Example:"
      ],
      "metadata": {
        "id": "HsHZJHSjUv_I"
      }
    },
    {
      "cell_type": "code",
      "source": [
        "%env OPENAI_API_KEY=\"your_api_key_here\""
      ],
      "metadata": {
        "id": "PStRJZvOGOw1"
      },
      "execution_count": null,
      "outputs": []
    },
    {
      "cell_type": "code",
      "source": [
        "import openai\n",
        "\n",
        "openai.api_key = \"your_api_key_here\"\n"
      ],
      "metadata": {
        "id": "hTdh8rRfGUSl"
      },
      "execution_count": null,
      "outputs": []
    },
    {
      "cell_type": "code",
      "source": [
        "import openai\n",
        "\n",
        "# Optionally set the API key explicitly\n",
        "openai.api_key = \"your_api_key_here\"\n",
        "\n",
        "# Create an OpenAI client (optional, depending on the library version)\n",
        "# This example assumes using the latest OpenAI Python library\n",
        "# If you need to use client methods, use them directly via openai.<function>\n"
      ],
      "metadata": {
        "id": "LkypyWqkGcPZ"
      },
      "execution_count": null,
      "outputs": []
    },
    {
      "cell_type": "code",
      "source": [
        "import os\n",
        "\n",
        "print(os.getenv(\"OPENAI_API_KEY\"))  # Should print your API key\n"
      ],
      "metadata": {
        "id": "WbLs82llGiQQ"
      },
      "execution_count": null,
      "outputs": []
    },
    {
      "cell_type": "code",
      "source": [
        "try:\n",
        "    import openai\n",
        "\n",
        "    # Explicitly set API key\n",
        "    openai.api_key = \"your_api_key_here\"\n",
        "    print(\"OpenAI client initialized successfully.\")\n",
        "except Exception as e:\n",
        "    print(f\"Error initializing OpenAI client: {e}\")\n"
      ],
      "metadata": {
        "id": "jWhGgzK3GrnV"
      },
      "execution_count": null,
      "outputs": []
    },
    {
      "source": [
        "!pip install pymongo # This installs pymongo in the current environment\n",
        "import pymongo # This imports the pymongo module.\n",
        "from datetime import datetime\n",
        "# Replace with your MongoDB connection string\n",
        "MONGO_URI = \"mongodb://localhost:27017/mydatabase\"\n",
        "client = pymongo.MongoClient(MONGO_URI)\n",
        "db = client[\"mydatabase\"]  # Replace \"mydatabase\" with your database name\n",
        "collection = db[\"users\"]  # Replace \"users\" with your collection name\n",
        "\n",
        "class User:\n",
        "    def __init__(self, email, username, password):\n",
        "        self.email = email\n",
        "        self.username = username\n",
        "        self.password = password\n",
        "        self.createdAt = datetime.now()\n",
        "\n",
        "    def save(self):\n",
        "        user_data = {\n",
        "            \"email\": self.email,\n",
        "            \"username\": self.username,\n",
        "            \"password\": self.password,\n",
        "            \"createdAt\": self.createdAt\n",
        "        }\n",
        "        collection.insert_one(user_data)\n",
        "\n",
        "# Example usage\n",
        "# new_user = User(\"test@example.com\", \"testuser\", \"password123\")"
      ],
      "cell_type": "code",
      "metadata": {
        "id": "VUAO7V1JQKxL"
      },
      "execution_count": null,
      "outputs": []
    },
    {
      "cell_type": "code",
      "source": [
        "!pip install Flask==2.3.0 Flask-SQLAlchemy==3.0.0 Flask-Login==0.6.0"
      ],
      "metadata": {
        "id": "ru57gv3Gjt66"
      },
      "execution_count": null,
      "outputs": []
    },
    {
      "cell_type": "code",
      "source": [
        "!pip install -r requirements.txt"
      ],
      "metadata": {
        "id": "jv9sd4qwj-VG"
      },
      "execution_count": null,
      "outputs": []
    },
    {
      "cell_type": "code",
      "source": [],
      "metadata": {
        "id": "PrOhhfnpktHZ"
      },
      "execution_count": null,
      "outputs": []
    },
    {
      "source": [
        "!pip install Werkzeug==2.0.0"
      ],
      "cell_type": "code",
      "metadata": {
        "id": "QOwAiTZAkujz"
      },
      "execution_count": null,
      "outputs": []
    },
    {
      "source": [
        "!pip install Flask==2.2.3 Flask-SQLAlchemy==3.0.0 Flask-Login==0.6.0 Werkzeug==2.0.0"
      ],
      "cell_type": "code",
      "metadata": {
        "id": "nIVhH1yslF8I"
      },
      "execution_count": null,
      "outputs": []
    },
    {
      "source": [
        "!pip install Flask==2.2.3 Flask-SQLAlchemy==3.0.0 Flask-Login==0.6.0 Werkzeug==2.0.0\n",
        "# Werkzeug==2.0.0 is not a valid command.  It's been commented out."
      ],
      "cell_type": "code",
      "metadata": {
        "id": "KTOAc3ZNlUaX"
      },
      "execution_count": null,
      "outputs": []
    },
    {
      "source": [
        "!pip install -r requirements.txt"
      ],
      "cell_type": "code",
      "metadata": {
        "id": "e1Qz9drYlVlF"
      },
      "execution_count": null,
      "outputs": []
    },
    {
      "cell_type": "code",
      "source": [],
      "metadata": {
        "id": "T9SLV-w8mjoR"
      },
      "execution_count": null,
      "outputs": []
    },
    {
      "source": [
        "!pip install -r requirements.txt # Installs the other dependencies"
      ],
      "cell_type": "code",
      "metadata": {
        "id": "893KTUAAmqjf"
      },
      "execution_count": null,
      "outputs": []
    },
    {
      "source": [
        "!pip install flask==2.1.3\n",
        "!pip install -r requirements.txt # Installs the other dependencies"
      ],
      "cell_type": "code",
      "metadata": {
        "id": "UGy1Cowimq-i"
      },
      "execution_count": null,
      "outputs": []
    },
    {
      "source": [
        "hashed_password = generate_password_hash(password, method='sha256')"
      ],
      "cell_type": "code",
      "metadata": {
        "id": "vufpbeUgnl1O"
      },
      "execution_count": null,
      "outputs": []
    },
    {
      "source": [
        "from werkzeug.security import generate_password_hash, check_password_hash\n",
        "\n",
        "# Assume 'password' is a variable holding the user's input\n",
        "password = \"user_password\"  # Replace \"user_password\" with actual password input\n",
        "\n",
        "# Now you can generate the hash\n",
        "hashed_password = generate_password_hash(password, method='sha256')\n",
        "\n",
        "## Database models\n",
        "class User(db.Model, UserMixin):\n",
        "    id = db.Column(db.Integer, primary_key=True)\n",
        "    username = db.Column(db.String(150), nullable=False, unique=True)\n",
        "    password = db.Column(db.String(150), nullable=False)\n",
        "    bio = db.Column(db.String(500), nullable=True)\n",
        "\n",
        "class Message(db.Model):\n",
        "    id = db.Column(db.Integer, primary_key=True)\n",
        "    sender_id = db.Column(db.Integer, db.ForeignKey('user.id'), nullable=False)\n",
        "    receiver_id = db.Column(db.Integer, db.ForeignKey('user.id'), nullable=False)\n",
        "    content = db.Column(db.String(500), nullable=False)\n",
        "\n",
        "@login_manager.user_loader\n",
        "def load_user(user_id):\n",
        "    return User.query.get(int(user_id))\n",
        "\n",
        "@app.route('/')\n",
        "def home():\n",
        "    return render_template('index.html')\n",
        "\n",
        "@app.route('/register', methods=['GET', 'POST'])\n",
        "def register():\n",
        "    if request.method == 'POST':\n",
        "        username = request.form['username']\n",
        "        password = request.form['password']\n",
        "        new_user = User(username=username, password=password)\n",
        "        db.session.add(new_user)\n",
        "        db.session.commit()\n",
        "        return redirect(url_for('login'))\n",
        "    return render_template('register.html')\n",
        "\n",
        "@app.route('/login', methods=['GET', 'POST'])\n",
        "def login():\n",
        "    if request.method == 'POST':\n",
        "        username = request.form['username']\n",
        "        password = request.form['password']\n",
        "        user = User.query.filter_by(username=username, password=password).first()\n",
        "        if user:\n",
        "            login_user(user)\n",
        "            return redirect(url_for('profile'))\n",
        "    return render_template('login.html')\n",
        "\n",
        "@app.route('/profile')\n",
        "@login_required\n",
        "def profile():\n",
        "    return render_template('profile.html', user=current_user)\n",
        "\n",
        "@app.route('/matches')\n",
        "@login_required\n",
        "def matches():\n",
        "    # Simple matches logic can be added here\n",
        "    return render_template('matches.html')\n",
        "\n",
        "@app.route('/messages', methods=['GET', 'POST'])\n",
        "@login_required\n",
        "def messages():\n",
        "    if request.method == 'POST':\n",
        "        content = request.form['content']\n",
        "        new_message = Message(sender_id=current_user.id, receiver_id=request.form['receiver_id'], content=content)\n",
        "        db.session.add(new_message)\n",
        "        db.session.commit()\n",
        "\n",
        "    user_messages = Message.query.filter((Message.sender_id == current_user.id) | (Message.receiver_id == current_user.id)).all()\n",
        "    return render_template('messages.html', messages=user_messages)\n",
        "\n",
        "@app.route('/logout')\n",
        "@login_required\n",
        "def logout():\n",
        "    logout_user()\n",
        "    return redirect(url_for('home'))\n",
        "\n",
        "if __name__ == '__main__':\n",
        "    db.create_all()  # Creates database tables\n",
        "    app.run(debug=True)"
      ],
      "cell_type": "code",
      "metadata": {
        "id": "3STHFosgnuEv"
      },
      "execution_count": null,
      "outputs": []
    },
    {
      "cell_type": "code",
      "source": [],
      "metadata": {
        "id": "nYbv5T3wpO0A"
      },
      "execution_count": null,
      "outputs": []
    },
    {
      "source": [
        "!pip install Flask==2.2.3 Flask-SQLAlchemy==3.0.0 Flask-Login==0.6.0 Werkzeug==2.0.3"
      ],
      "cell_type": "code",
      "metadata": {
        "id": "GtfjjcSqpPjG"
      },
      "execution_count": null,
      "outputs": []
    },
    {
      "cell_type": "code",
      "source": [],
      "metadata": {
        "id": "hyZHCA6Esi5w"
      },
      "execution_count": null,
      "outputs": []
    },
    {
      "source": [
        "!pip install Flask-Login==0.6.3 Werkzeug==2.0.3"
      ],
      "cell_type": "code",
      "metadata": {
        "id": "ljnJSkWtsjpw"
      },
      "execution_count": null,
      "outputs": []
    },
    {
      "source": [
        "from werkzeug.security import generate_password_hash, check_password_hash\n",
        "!pip install flask_sqlalchemy\n",
        "from flask_sqlalchemy import SQLAlchemy\n",
        "from flask import Flask\n",
        "from flask_login import LoginManager, UserMixin, login_user, logout_user, login_required, current_user\n",
        "\n",
        "app = Flask(__name__)\n",
        "app.config['SECRET_KEY'] = 'your_secret_key'  # Replace with a strong secret key\n",
        "app.config['SQLALCHEMY_DATABASE_URI'] = 'sqlite:///data.db'\n",
        "db = SQLAlchemy(app)\n",
        "login_manager = LoginManager()\n",
        "login_manager.init_app(app)\n",
        "\n",
        "# Database models\n",
        "class User(db.Model, UserMixin):\n",
        "    id = db.Column(db.Integer, primary_key=True)\n",
        "    username = db.Column(db.String(150), nullable=False, unique=True)\n",
        "    password = db.Column(db.String(150), nullable=False)\n",
        "    bio = db.Column(db.String(500), nullable=True)\n",
        "\n",
        "class Message(db.Model):\n",
        "    id = db.Column(db.Integer, primary_key=True)\n",
        "    sender_id = db.Column(db.Integer, db.ForeignKey('user.id'), nullable=False)\n",
        "    receiver_id = db.Column(db.Integer, db.ForeignKey('user.id'), nullable=False)\n",
        "    content = db.Column(db.String(500), nullable=False)\n",
        "\n",
        "\n",
        "# Assuming 'password' is a variable holding the user's input\n",
        "password = \"user_password\" # Replace \"user_password\" with the actual password input\n",
        "username = \"test_user\" # Replace with the actual username input\n",
        "\n",
        "# In your registration logic:\n",
        "hashed_password = generate_password_hash(password, method='sha256')\n",
        "new_user = User(username=username, password=hashed_password)\n",
        "\n",
        "# ... (add database session handling to save the new_user) ...\n",
        "\n",
        "# In your login logic:\n",
        "# Assuming 'user' is the User object retrieved from the database\n",
        "# and 'password' is the password entered by the user during login\n",
        "# ... (retrieve 'user' from the database using username) ...\n",
        "\n",
        "if user and check_password_hash(user.password, password):\n",
        "    pass  # Add your login success logic here"
      ],
      "cell_type": "code",
      "metadata": {
        "id": "lrNQdmRKoAH5"
      },
      "execution_count": null,
      "outputs": []
    },
    {
      "source": [
        "!pip install Flask==2.2.3 Flask-SQLAlchemy==3.0.0 Flask-Login==0.6.0 Werkzeug==2.0.3"
      ],
      "cell_type": "code",
      "metadata": {
        "id": "XL0ahWDKp1ai"
      },
      "execution_count": null,
      "outputs": []
    },
    {
      "source": [
        "!pip install Flask==2.2.3 Flask-SQLAlchemy==3.0.0 Flask-Login==0.6.0 Werkzeug==2.0.3"
      ],
      "cell_type": "code",
      "metadata": {
        "id": "gQ6kq_VooYR1"
      },
      "execution_count": null,
      "outputs": []
    },
    {
      "source": [
        "!pip install Flask==2.2.3 Flask-SQLAlchemy==3.0.0 Flask-Login==0.6.0 Werkzeug==2.0.3"
      ],
      "cell_type": "code",
      "metadata": {
        "id": "8wwoKT2jmJNI"
      },
      "execution_count": null,
      "outputs": []
    },
    {
      "cell_type": "code",
      "source": [
        "from flask_wtf.csrf import CSRFProtect\n",
        "csrf = CSRFProtect(app)\n"
      ],
      "metadata": {
        "id": "IG1Da37CpYeO"
      },
      "execution_count": null,
      "outputs": []
    },
    {
      "source": [
        "!pip install flask-wtf # Install the flask-wtf package\n",
        "from flask_wtf.csrf import CSRFProtect # Now you can import CSRFProtect\n",
        "from flask import Flask # Import the Flask class\n",
        "\n",
        "app = Flask(__name__) # Create an instance of the Flask class\n",
        "csrf = CSRFProtect(app) # Now you can use the 'app' object"
      ],
      "cell_type": "code",
      "metadata": {
        "id": "5rSSiTxYpkqK"
      },
      "execution_count": null,
      "outputs": []
    },
    {
      "source": [
        "!pip uninstall flask flask-sqlalchemy -y"
      ],
      "cell_type": "code",
      "metadata": {
        "id": "1Yvo6r8RqM3q"
      },
      "execution_count": null,
      "outputs": []
    },
    {
      "source": [
        "!pip install Flask==2.3.0 Flask-SQLAlchemy==3.0.0 Flask-Login==0.6.0 Werkzeug==2.0.3"
      ],
      "cell_type": "code",
      "metadata": {
        "id": "gy-v6Ou0qOT2"
      },
      "execution_count": null,
      "outputs": []
    },
    {
      "source": [
        "!pip uninstall flask flask-sqlalchemy -y\n",
        "!pip install Flask==2.3.0 Flask-SQLAlchemy==3.0.0 Flask-Login==0.6.0"
      ],
      "cell_type": "code",
      "metadata": {
        "id": "9PlZd5XFrKRK"
      },
      "execution_count": null,
      "outputs": []
    },
    {
      "cell_type": "code",
      "source": [
        "import os\n",
        "app.config['SECRET_KEY'] = os.environ.get('SECRET_KEY', 'fallback_secret_key')\n"
      ],
      "metadata": {
        "id": "l3m5HKWCqxcD"
      },
      "execution_count": null,
      "outputs": []
    },
    {
      "cell_type": "code",
      "source": [
        "@app.route('/register', methods=['GET', 'POST'])\n",
        "def register():\n",
        "    if request.method == 'POST':\n",
        "        username = request.form['username']\n",
        "        password = generate_password_hash(request.form['password'], method='sha256')\n",
        "        if User.query.filter_by(username=username).first():\n",
        "            return \"Username already exists. Please choose a different one.\"\n",
        "        new_user = User(username=username, password=password)\n",
        "        db.session.add(new_user)\n",
        "        db.session.commit()\n",
        "        return redirect(url_for('login'))\n",
        "    return render_template('register.html')\n",
        "\n",
        "@app.route('/login', methods=['GET', 'POST'])\n",
        "def login():\n",
        "    if request.method == 'POST':\n",
        "        username = request.form['username']\n",
        "        password = request.form['password']\n",
        "        user = User.query.filter_by(username=username).first()\n",
        "        if user and check_password_hash(user.password, password):\n",
        "            login_user(user)\n",
        "            return redirect(url_for('profile'))\n",
        "        return \"Invalid credentials.\"\n",
        "    return render_template('login.html')\n"
      ],
      "metadata": {
        "id": "7ET4kWT0q5kI"
      },
      "execution_count": null,
      "outputs": []
    },
    {
      "source": [
        "from flask import Flask\n",
        "import os\n",
        "\n",
        "app = Flask(__name__)  # Create a Flask app instance\n",
        "app.config['SECRET_KEY'] = os.getenv('SECRET_KEY', 'default_secret_key')"
      ],
      "cell_type": "code",
      "metadata": {
        "id": "E6-9Xi4BriWM"
      },
      "execution_count": null,
      "outputs": []
    }
  ]
}